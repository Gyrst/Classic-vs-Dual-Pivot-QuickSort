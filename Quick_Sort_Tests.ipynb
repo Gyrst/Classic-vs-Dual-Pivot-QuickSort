{
 "cells": [
  {
   "cell_type": "code",
   "execution_count": 2,
   "source": [
    "#Sentinel value\n",
    "import sys\n",
    "sentinel = -sys.maxsize-1"
   ],
   "outputs": [],
   "metadata": {}
  },
  {
   "cell_type": "markdown",
   "source": [
    "Inputs for testing:"
   ],
   "metadata": {}
  },
  {
   "cell_type": "code",
   "execution_count": 3,
   "source": [
    "#With Sentinel\n",
    "test = [sentinel,4,2,7,10,7,3,5]\n",
    "\n",
    "#Without Sentinel\n",
    "test2 = [12,4,2,7,10,7,3,5]"
   ],
   "outputs": [],
   "metadata": {}
  },
  {
   "cell_type": "code",
   "execution_count": 4,
   "source": [
    "#Swap - Helper Method:\n",
    "def swap(A, i, j):\n",
    "    temp = A[i]\n",
    "    A[i] = A[j]\n",
    "    A[j] = temp"
   ],
   "outputs": [],
   "metadata": {}
  },
  {
   "cell_type": "markdown",
   "source": [
    "Classic Quicksort implementation\n"
   ],
   "metadata": {}
  },
  {
   "cell_type": "code",
   "execution_count": 5,
   "source": [
    "def quick_sort(A, left, right):\n",
    "    if right - left >= 1:\n",
    "        p = A[right]; i = left-1; j = right\n",
    "\n",
    "        #Currently it will not run any single interation if j>i is not satisfied.\n",
    "        while j>i:\n",
    "            i+=1\n",
    "            while A[i] < p:\n",
    "                i+= 1\n",
    "            \n",
    "            j-=1\n",
    "            while A[j] > p:\n",
    "                j-=1\n",
    "            if j>i:\n",
    "                swap(A, i, j)\n",
    "        \n",
    "        swap(A, i, right)\n",
    "        quick_sort(A, left, i-1)\n",
    "        quick_sort(A,i+1,right)\n",
    "    \n",
    "    return A"
   ],
   "outputs": [],
   "metadata": {}
  },
  {
   "cell_type": "markdown",
   "source": [
    "Alternative Classic Quicksort:"
   ],
   "metadata": {}
  },
  {
   "cell_type": "code",
   "execution_count": 6,
   "source": [
    "\n",
    "def quick_sort2(A, left, right):\n",
    "    if right - left >= 1:\n",
    "\n",
    "        p = A[right]; i = left-1; j = right\n",
    "\n",
    "        #Here it will at least run once before it haults\n",
    "        while True: # difference is here\n",
    "            i+=1\n",
    "            while A[i] < p:\n",
    "                i+= 1\n",
    "            \n",
    "            j-=1\n",
    "            while A[j] > p:\n",
    "                j-=1\n",
    "            if j>i:\n",
    "                swap(A, i, j)\n",
    "            if j>i:\n",
    "                break     \n",
    "        swap(A, i, right)\n",
    "        quick_sort2(A, left, i-1)\n",
    "        quick_sort2(A,i+1,right)\n",
    "\n",
    "    return A\n",
    "\n"
   ],
   "outputs": [],
   "metadata": {}
  },
  {
   "cell_type": "markdown",
   "source": [
    "Dual Pivot Implementation:\n"
   ],
   "metadata": {}
  },
  {
   "cell_type": "code",
   "execution_count": 1,
   "source": [
    "def dual_pivot_quick_sort(A, left, right):\n",
    "    if right - left >= 1:\n",
    "\n",
    "        if A[left] > A[right]:\n",
    "            swap(A, left, right)\n",
    "        \n",
    "        p = A[left]; q= A[right]\n",
    "        if p>q: swap(A, p, q)\n",
    "\n",
    "        l = left + 1; g = right-1; k = l\n",
    "        \n",
    "        while k <= g:\n",
    "            if A[k] < p:\n",
    "                swap(A, k, l)\n",
    "                l+= 1\n",
    "            else:\n",
    "                if A[k] > q:\n",
    "                    while (A[g] > q) & (k < g):\n",
    "                        g-= 1\n",
    "                    swap(A, k, g)\n",
    "                    g-=1\n",
    "                    if A[k] < p:\n",
    "                        swap(A, k, l)\n",
    "                        l+= 1\n",
    "            k += 1\n",
    "        l-= 1\n",
    "        g+= 1\n",
    "        swap(A, left, l)\n",
    "        swap(A, right, g)\n",
    "\n",
    "        dual_pivot_quick_sort(A, left, l-1)\n",
    "        dual_pivot_quick_sort(A, l+1, g-1)\n",
    "        dual_pivot_quick_sort(A, g+1, right)  \n",
    "\n",
    "    return A"
   ],
   "outputs": [],
   "metadata": {}
  },
  {
   "cell_type": "markdown",
   "source": [
    "Tests"
   ],
   "metadata": {}
  },
  {
   "cell_type": "code",
   "execution_count": 7,
   "source": [
    "result_dual_test1 = dual_pivot_quick_sort(test, 0, len(test)-1)\n",
    "result_dual_test2 = dual_pivot_quick_sort(test2, 0, len(test2)-1)\n",
    "\n",
    "print(result_dual_test1)\n",
    "print(result_dual_test2)"
   ],
   "outputs": [
    {
     "output_type": "stream",
     "name": "stdout",
     "text": [
      "[-9223372036854775808, 2, 3, 4, 5, 7, 7, 10]\n",
      "[2, 3, 4, 5, 7, 7, 10, 12]\n"
     ]
    }
   ],
   "metadata": {}
  }
 ],
 "metadata": {
  "orig_nbformat": 4,
  "language_info": {
   "name": "python",
   "version": "3.8.8",
   "mimetype": "text/x-python",
   "codemirror_mode": {
    "name": "ipython",
    "version": 3
   },
   "pygments_lexer": "ipython3",
   "nbconvert_exporter": "python",
   "file_extension": ".py"
  },
  "kernelspec": {
   "name": "python3",
   "display_name": "Python 3.8.8 64-bit ('base': conda)"
  },
  "interpreter": {
   "hash": "9e0a36423c16b0fecced2a9cb9f93fdede54d54c836bef37735d17124ca108c1"
  }
 },
 "nbformat": 4,
 "nbformat_minor": 2
}