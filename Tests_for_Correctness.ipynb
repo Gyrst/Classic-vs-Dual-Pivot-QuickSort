{
 "cells": [
  {
   "cell_type": "code",
   "execution_count": 74,
   "source": [
    "#Sentinel value\n",
    "import sys\n",
    "from typing import List, Tuple, Optional, Dict, Callable, Any\n",
    "\n",
    "from random import randint\n",
    "\n",
    "sentinel = -sys.maxsize-1 #64 bit?\n",
    "sentinel_32bit = -2147483648\n",
    "\n",
    "min_value = -2147483648\n",
    "max_value = 2147483648\n"
   ],
   "outputs": [],
   "metadata": {}
  },
  {
   "cell_type": "code",
   "execution_count": 75,
   "source": [
    "#Input Generation:\n",
    "\n",
    "def random_numbers(size:int, low, high, sentinel=False)->List[int]:\n",
    "    random_list = []\n",
    "    if sentinel == True:\n",
    "        list.append(sentinel_32bit) #Adding sentinel value\n",
    "    for i in range(size):\n",
    "        random_list.append(randint(low, high))\n",
    "    return random_list\n",
    "\n",
    "\n",
    "#ordered input: \n",
    "def gen_ordered(size, start, sentinel=False, movement=1):\n",
    "    list = []\n",
    "    if sentinel == True:\n",
    "        list.append(sentinel_32bit) #Adding the sentinel value\n",
    "    for i in range(start, start+size, movement):\n",
    "        list.append(i)\n",
    "    return list\n",
    "\n",
    "\n",
    "def gen_repeated_number(repeated_number, size, sentinel=False):\n",
    "    list = []\n",
    "    if sentinel == True: list.append(sentinel_32bit)\n",
    "    for i in range(size):\n",
    "        list.append(repeated_number)\n",
    "    return list"
   ],
   "outputs": [],
   "metadata": {}
  },
  {
   "cell_type": "markdown",
   "source": [
    "Inputs for testing:"
   ],
   "metadata": {}
  },
  {
   "cell_type": "code",
   "execution_count": 76,
   "source": [
    "#inputs with random numbers\n",
    "ran_pos_range100 = random_numbers(100, 0, 100)\n",
    "\n",
    "ran_neg_range100 = random_numbers(100, -100, 0)\n",
    "\n",
    "ran_mixed_range100 = random_numbers(100,-50, 50)\n",
    "\n",
    "ran_high_repetition_range10 = random_numbers(100, -5, 5)\n",
    "\n",
    "#random numbers with Sentinel values\n",
    "\n",
    "ran_pos_range100_s = random_numbers(100, 0, 100, True)\n",
    "\n",
    "ran_neg_range100_s = random_numbers(100, -100, 0, True)\n",
    "\n",
    "ran_mixed_range100_s = random_numbers(100,-50, 50, True)\n",
    "\n",
    "ran_high_repetition_range10_s = random_numbers(100, -5, 5, True)\n",
    "\n",
    "\n",
    "#Ordered numbers\n",
    "\n",
    "ordered = gen_ordered(1000, 0)\n",
    "\n",
    "ordered_neg_pos = gen_ordered(1000, -500)\n",
    "\n",
    "ordered_sentinel = gen_ordered(1000, -500, sentinel=True)\n",
    "\n",
    "#Empty list:\n",
    "empty_list = []\n",
    "\n",
    "\n",
    "#repeated_number\n",
    "\n",
    "gen_repeated_number(42,1000)\n",
    "\n",
    "\n",
    "# Test where we know it would fail:\n",
    "\n",
    "char_list = ['a', 'c', 'd', 'h', 'i', 'a', 'w']\n",
    "\n",
    "mixed_list = [2, 5, -1, \"Yellow\", \"Green\", \"Blue\", True, False, 54.20]\n",
    "\n"
   ],
   "outputs": [],
   "metadata": {}
  },
  {
   "cell_type": "code",
   "execution_count": 77,
   "source": [
    "#Swap - Helper Method:\n",
    "def swap(A, i, j):\n",
    "    temp = A[i]\n",
    "    A[i] = A[j]\n",
    "    A[j] = temp"
   ],
   "outputs": [],
   "metadata": {}
  },
  {
   "cell_type": "markdown",
   "source": [
    "Classic Quicksort implementation\n"
   ],
   "metadata": {}
  },
  {
   "cell_type": "code",
   "execution_count": 78,
   "source": [
    "def quick_sort(A, left, right):\n",
    "    if right - left >= 1:\n",
    "        p = A[right]; i = left-1; j = right\n",
    "\n",
    "        #Currently it will not run any single interation if j>i is not satisfied.\n",
    "        while j>i:\n",
    "            i+=1\n",
    "            while A[i] < p:\n",
    "                i+= 1\n",
    "            \n",
    "            j-=1\n",
    "            while A[j] > p:\n",
    "                j-=1\n",
    "            if j>i:\n",
    "                swap(A, i, j)\n",
    "        \n",
    "        swap(A, i, right)\n",
    "        quick_sort(A, left, i-1)\n",
    "        quick_sort(A,i+1,right)\n",
    "    \n",
    "    return A"
   ],
   "outputs": [],
   "metadata": {}
  },
  {
   "cell_type": "markdown",
   "source": [
    "Alternative Classic Quicksort:"
   ],
   "metadata": {}
  },
  {
   "cell_type": "code",
   "execution_count": 79,
   "source": [
    "\n",
    "def quick_sort2(A, left, right):\n",
    "    if right - left >= 1:\n",
    "\n",
    "        p = A[right]; i = left-1; j = right\n",
    "\n",
    "        #Here it will at least run once before it haults\n",
    "        while True: # difference is here\n",
    "            i+=1\n",
    "            while A[i] < p:\n",
    "                i+= 1\n",
    "            \n",
    "            j-=1\n",
    "            while A[j] > p:\n",
    "                j-=1\n",
    "            if j>i:\n",
    "                swap(A, i, j)\n",
    "            if j>i:\n",
    "                break     \n",
    "        swap(A, i, right)\n",
    "        quick_sort2(A, left, i-1)\n",
    "        quick_sort2(A,i+1,right)\n",
    "\n",
    "    return A\n",
    "\n"
   ],
   "outputs": [],
   "metadata": {}
  },
  {
   "cell_type": "markdown",
   "source": [
    "Dual Pivot Implementation:\n"
   ],
   "metadata": {}
  },
  {
   "cell_type": "code",
   "execution_count": 80,
   "source": [
    "def dual_pivot_quick_sort(A, left, right):\n",
    "    if right - left >= 1:\n",
    "\n",
    "        if A[left] > A[right]:\n",
    "            swap(A, left, right)\n",
    "        \n",
    "        p = A[left]; q= A[right]\n",
    "        if p>q: swap(A, p, q)\n",
    "\n",
    "        l = left + 1; g = right-1; k = l\n",
    "        \n",
    "        while k <= g:\n",
    "            if A[k] < p:\n",
    "                swap(A, k, l)\n",
    "                l+= 1\n",
    "            else:\n",
    "                if A[k] > q:\n",
    "                    while (A[g] > q) & (k < g):\n",
    "                        g-= 1\n",
    "                    swap(A, k, g)\n",
    "                    g-=1\n",
    "                    if A[k] < p:\n",
    "                        swap(A, k, l)\n",
    "                        l+= 1\n",
    "            k += 1\n",
    "        l-= 1\n",
    "        g+= 1\n",
    "        swap(A, left, l)\n",
    "        swap(A, right, g)\n",
    "\n",
    "        dual_pivot_quick_sort(A, left, l-1)\n",
    "        dual_pivot_quick_sort(A, l+1, g-1)\n",
    "        dual_pivot_quick_sort(A, g+1, right)  \n",
    "\n",
    "    return A"
   ],
   "outputs": [],
   "metadata": {}
  },
  {
   "cell_type": "markdown",
   "source": [
    "Tests"
   ],
   "metadata": {}
  },
  {
   "cell_type": "code",
   "execution_count": 111,
   "source": [
    "\n",
    "#All test lists are of length 100. Therefore we can enter 99 as our right pivot to start the algorithm\n",
    "\n",
    "#simple method to check whether the \n",
    "def is_sorted(list):\n",
    "    prior = min_value\n",
    "    for i in list:\n",
    "        if i < prior:\n",
    "            return False\n",
    "        prior = i\n",
    "    return True\n",
    "\n",
    "\n",
    "\n",
    "if is_sorted(dual_pivot_quick_sort(ran_pos_range100, 0, len(ran_pos_range100)-1)):\n",
    "    print(\"Correct output for dual pivot with random posivtive integers of sample size 100 and range 100 in different values\")\n",
    "\n",
    "if is_sorted(dual_pivot_quick_sort(ran_neg_range100, 0, 99)):\n",
    "    print(\"Correct output for dual pivot with random negative integers of sample size 100 and range 100 in different values\")\n",
    "\n",
    "if is_sorted(dual_pivot_quick_sort(ran_mixed_range100, 0, 99)):\n",
    "    print(\"correct output\")\n",
    "\n",
    "if is_sorted(dual_pivot_quick_sort(ran_high_repetition_range10, 0, 99)):\n",
    "    print(\"correct output\")\n",
    "\n",
    "\n",
    "#Test \n",
    "\n"
   ],
   "outputs": [
    {
     "output_type": "stream",
     "name": "stdout",
     "text": [
      "Correct output for dual pivot with random posivtive integers of sample size 100 and range 100 in different values\n",
      "Correct output for dual pivot with random negative integers of sample size 100 and range 100 in different values\n",
      "correct output\n",
      "correct output\n"
     ]
    }
   ],
   "metadata": {}
  }
 ],
 "metadata": {
  "orig_nbformat": 4,
  "language_info": {
   "name": "python",
   "version": "3.8.8",
   "mimetype": "text/x-python",
   "codemirror_mode": {
    "name": "ipython",
    "version": 3
   },
   "pygments_lexer": "ipython3",
   "nbconvert_exporter": "python",
   "file_extension": ".py"
  },
  "kernelspec": {
   "name": "python3",
   "display_name": "Python 3.8.8 64-bit ('base': conda)"
  },
  "interpreter": {
   "hash": "9e0a36423c16b0fecced2a9cb9f93fdede54d54c836bef37735d17124ca108c1"
  }
 },
 "nbformat": 4,
 "nbformat_minor": 2
}